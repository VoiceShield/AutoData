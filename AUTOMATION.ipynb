{
  "nbformat": 4,
  "nbformat_minor": 0,
  "metadata": {
    "colab": {
      "provenance": []
    },
    "kernelspec": {
      "name": "python3",
      "display_name": "Python 3"
    },
    "language_info": {
      "name": "python"
    }
  },
  "cells": [
    {
      "cell_type": "code",
      "execution_count": 1,
      "metadata": {
        "colab": {
          "base_uri": "https://localhost:8080/"
        },
        "id": "Fe-ArNKVXP3P",
        "outputId": "00c193ed-6d0f-4167-c8be-f99973114e82"
      },
      "outputs": [
        {
          "output_type": "stream",
          "name": "stdout",
          "text": [
            "Collecting pydub\n",
            "  Downloading pydub-0.25.1-py2.py3-none-any.whl (32 kB)\n",
            "Collecting ffmpeg-python\n",
            "  Downloading ffmpeg_python-0.2.0-py3-none-any.whl (25 kB)\n",
            "Requirement already satisfied: future in /usr/local/lib/python3.10/dist-packages (from ffmpeg-python) (0.18.3)\n",
            "Installing collected packages: pydub, ffmpeg-python\n",
            "Successfully installed ffmpeg-python-0.2.0 pydub-0.25.1\n"
          ]
        }
      ],
      "source": [
        "pip install pydub ffmpeg-python\n"
      ]
    },
    {
      "cell_type": "code",
      "source": [
        "!pip install moviepy"
      ],
      "metadata": {
        "id": "Ru1hz2P-oNhM",
        "colab": {
          "base_uri": "https://localhost:8080/"
        },
        "outputId": "905dc941-81c9-4946-e8c2-0df9eee3edf6"
      },
      "execution_count": 2,
      "outputs": [
        {
          "output_type": "stream",
          "name": "stdout",
          "text": [
            "Requirement already satisfied: moviepy in /usr/local/lib/python3.10/dist-packages (1.0.3)\n",
            "Requirement already satisfied: decorator<5.0,>=4.0.2 in /usr/local/lib/python3.10/dist-packages (from moviepy) (4.4.2)\n",
            "Requirement already satisfied: tqdm<5.0,>=4.11.2 in /usr/local/lib/python3.10/dist-packages (from moviepy) (4.66.1)\n",
            "Requirement already satisfied: requests<3.0,>=2.8.1 in /usr/local/lib/python3.10/dist-packages (from moviepy) (2.31.0)\n",
            "Requirement already satisfied: proglog<=1.0.0 in /usr/local/lib/python3.10/dist-packages (from moviepy) (0.1.10)\n",
            "Requirement already satisfied: numpy>=1.17.3 in /usr/local/lib/python3.10/dist-packages (from moviepy) (1.23.5)\n",
            "Requirement already satisfied: imageio<3.0,>=2.5 in /usr/local/lib/python3.10/dist-packages (from moviepy) (2.31.6)\n",
            "Requirement already satisfied: imageio-ffmpeg>=0.2.0 in /usr/local/lib/python3.10/dist-packages (from moviepy) (0.4.9)\n",
            "Requirement already satisfied: pillow<10.1.0,>=8.3.2 in /usr/local/lib/python3.10/dist-packages (from imageio<3.0,>=2.5->moviepy) (9.4.0)\n",
            "Requirement already satisfied: setuptools in /usr/local/lib/python3.10/dist-packages (from imageio-ffmpeg>=0.2.0->moviepy) (67.7.2)\n",
            "Requirement already satisfied: charset-normalizer<4,>=2 in /usr/local/lib/python3.10/dist-packages (from requests<3.0,>=2.8.1->moviepy) (3.3.2)\n",
            "Requirement already satisfied: idna<4,>=2.5 in /usr/local/lib/python3.10/dist-packages (from requests<3.0,>=2.8.1->moviepy) (3.6)\n",
            "Requirement already satisfied: urllib3<3,>=1.21.1 in /usr/local/lib/python3.10/dist-packages (from requests<3.0,>=2.8.1->moviepy) (2.0.7)\n",
            "Requirement already satisfied: certifi>=2017.4.17 in /usr/local/lib/python3.10/dist-packages (from requests<3.0,>=2.8.1->moviepy) (2023.11.17)\n"
          ]
        }
      ]
    },
    {
      "cell_type": "code",
      "source": [
        "from google.colab import drive\n",
        "drive.mount('/gdrive')"
      ],
      "metadata": {
        "colab": {
          "base_uri": "https://localhost:8080/"
        },
        "id": "g7QE2dCAYuXV",
        "outputId": "55a4e61c-b1b3-4a7d-f839-d9d85e73429d"
      },
      "execution_count": 3,
      "outputs": [
        {
          "output_type": "stream",
          "name": "stdout",
          "text": [
            "Mounted at /gdrive\n"
          ]
        }
      ]
    },
    {
      "cell_type": "code",
      "source": [
        "video_folder_path = '/gdrive/MyDrive/Threat_Videos'\n",
        "mp3_audio_path = '/gdrive/MyDrive/MP3_Audios'"
      ],
      "metadata": {
        "id": "p6_vXmLyojBE"
      },
      "execution_count": 8,
      "outputs": []
    },
    {
      "cell_type": "code",
      "source": [
        "from moviepy.editor import VideoFileClip\n",
        "import os\n",
        "\n",
        "# Ensure the output folder exists\n",
        "os.makedirs(mp3_audio_path, exist_ok=True)\n",
        "\n",
        "# Iterate through MP4 files\n",
        "for video_file in os.listdir(video_folder_path):\n",
        "    if video_file.endswith('.mp4'):\n",
        "        video_path = os.path.join(video_folder_path, video_file)\n",
        "        mp3_path = os.path.join(mp3_audio_path, f'{os.path.splitext(video_file)[0]}.mp3')\n",
        "\n",
        "        # Load video and extract audio\n",
        "        video = VideoFileClip(video_path)\n",
        "        audio = video.audio\n",
        "\n",
        "        # Save audio as MP3\n",
        "        audio.write_audiofile(mp3_path)\n",
        "\n",
        "print('Conversion complete.')\n"
      ],
      "metadata": {
        "id": "MMHOkjd-oSEY",
        "colab": {
          "base_uri": "https://localhost:8080/"
        },
        "outputId": "f44130da-ed7a-4e99-d54a-1be51fcdd72c"
      },
      "execution_count": 9,
      "outputs": [
        {
          "output_type": "stream",
          "name": "stdout",
          "text": [
            "MoviePy - Writing audio in /gdrive/MyDrive/MP3_Audios/“እኔን ለመግደል ካሰባችሁ በቤተሰቦቻችሁ ህይወት ላይ ፈርዳችኋል” - አብይን የሚያጠፋ ታላቅ እሳት 4 ኪሎ ተነሳ - የብር የመግዛት አቅም የማዳከም ሴራ.mp3\n"
          ]
        },
        {
          "output_type": "stream",
          "name": "stderr",
          "text": []
        },
        {
          "output_type": "stream",
          "name": "stdout",
          "text": [
            "MoviePy - Done.\n",
            "MoviePy - Writing audio in /gdrive/MyDrive/MP3_Audios/tiktok_mota_4.mp3\n"
          ]
        },
        {
          "output_type": "stream",
          "name": "stderr",
          "text": []
        },
        {
          "output_type": "stream",
          "name": "stdout",
          "text": [
            "MoviePy - Done.\n",
            "MoviePy - Writing audio in /gdrive/MyDrive/MP3_Audios/tiktok_mota_5.mp3\n"
          ]
        },
        {
          "output_type": "stream",
          "name": "stderr",
          "text": [
            "                                                                     "
          ]
        },
        {
          "output_type": "stream",
          "name": "stdout",
          "text": [
            "MoviePy - Done.\n",
            "Conversion complete.\n"
          ]
        },
        {
          "output_type": "stream",
          "name": "stderr",
          "text": [
            "\r"
          ]
        }
      ]
    },
    {
      "cell_type": "code",
      "source": [
        "from pydub import AudioSegment\n",
        "import os\n",
        "\n",
        "def trim_audio(input_folder, output_folder, duration_seconds):\n",
        "    # Create the output folder if it doesn't exist\n",
        "    os.makedirs(output_folder, exist_ok=True)\n",
        "\n",
        "    # Iterate through MP3 files in the input folder\n",
        "    for mp3_file in os.listdir(input_folder):\n",
        "        if mp3_file.endswith('.mp3'):\n",
        "            input_file_path = os.path.join(input_folder, mp3_file)\n",
        "\n",
        "            # Load the audio file\n",
        "            audio = AudioSegment.from_file(input_file_path)\n",
        "\n",
        "            # Calculate the total duration of the audio file\n",
        "            total_duration = len(audio)\n",
        "\n",
        "            # Calculate the number of segments based on the desired duration\n",
        "            num_segments = int(total_duration / (duration_seconds * 1000))\n",
        "\n",
        "            # Trim the audio into segments\n",
        "            for i in range(num_segments):\n",
        "                start_time = i * duration_seconds * 1000\n",
        "                end_time = (i + 1) * duration_seconds * 1000\n",
        "\n",
        "                # Extract the segment\n",
        "                segment = audio[start_time:end_time]\n",
        "\n",
        "                # Save the segment to the output folder\n",
        "                output_file = os.path.join(output_folder, f\"{os.path.splitext(mp3_file)[0]}_segment_{i + 1}.mp3\")\n",
        "                segment.export(output_file, format=\"mp3\")\n",
        "\n",
        "if __name__ == \"__main__\":\n",
        "    # Input folder path containing MP3 files\n",
        "    input_folder_path = \"/gdrive/MyDrive/MP3_Audios\"\n",
        "\n",
        "    # Output folder for trimmed segments\n",
        "    output_folder_path = \"/gdrive/MyDrive/MP3_AUDIO_TRIMMED\"\n",
        "\n",
        "    # Duration of each segment in seconds\n",
        "    segment_duration = 10\n",
        "\n",
        "    # Trim the audio files into segments\n",
        "    trim_audio(input_folder_path, output_folder_path, segment_duration)\n"
      ],
      "metadata": {
        "id": "RnXUNBeCXYOI"
      },
      "execution_count": 10,
      "outputs": []
    },
    {
      "cell_type": "code",
      "source": [
        "mp3_folder_path = '/gdrive/MyDrive/MP3_AUDIO_TRIMMED'\n",
        "wav_folder_path = '/gdrive/MyDrive/WAV_AUDIOS'"
      ],
      "metadata": {
        "id": "J5u60r_AZ-7p"
      },
      "execution_count": null,
      "outputs": []
    },
    {
      "cell_type": "code",
      "source": [
        "from pydub import AudioSegment\n",
        "import os\n",
        "\n",
        "# Ensure the output folder exists\n",
        "os.makedirs(wav_folder_path, exist_ok=True)\n",
        "\n",
        "# Iterate through MP3 files\n",
        "for mp3_file in os.listdir(mp3_folder_path):\n",
        "    if mp3_file.endswith('.mp3'):\n",
        "        mp3_path = os.path.join(mp3_folder_path, mp3_file)\n",
        "        wav_path = os.path.join(wav_folder_path, f'{os.path.splitext(mp3_file)[0]}.wav')\n",
        "\n",
        "        # Load MP3 and convert to WAV\n",
        "        audio = AudioSegment.from_mp3(mp3_path)\n",
        "        audio.export(wav_path, format='wav')\n",
        "\n",
        "print('Conversion complete.')\n"
      ],
      "metadata": {
        "colab": {
          "base_uri": "https://localhost:8080/"
        },
        "id": "ySdkvUmUa_i5",
        "outputId": "511a8553-4631-4597-c6eb-0a2b1092dab6"
      },
      "execution_count": null,
      "outputs": [
        {
          "output_type": "stream",
          "name": "stdout",
          "text": [
            "Conversion complete.\n"
          ]
        }
      ]
    },
    {
      "cell_type": "code",
      "source": [],
      "metadata": {
        "id": "Rmefw2qYcfJn"
      },
      "execution_count": null,
      "outputs": []
    }
  ]
}