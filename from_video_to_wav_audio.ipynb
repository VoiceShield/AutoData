{
  "nbformat": 4,
  "nbformat_minor": 0,
  "metadata": {
    "colab": {
      "provenance": []
    },
    "kernelspec": {
      "name": "python3",
      "display_name": "Python 3"
    },
    "language_info": {
      "name": "python"
    }
  },
  "cells": [
    {
      "cell_type": "code",
      "execution_count": null,
      "metadata": {
        "id": "jRGRo0FzPDxq"
      },
      "outputs": [],
      "source": [
        "\n"
      ]
    },
    {
      "cell_type": "markdown",
      "source": [
        "# **A function that converts a video file into wav format audio**"
      ],
      "metadata": {
        "id": "kD3RLHqoPNd9"
      }
    },
    {
      "cell_type": "code",
      "source": [
        "import os\n",
        "\n",
        "from moviepy.editor import VideoFileClip\n",
        "from pydub import AudioSegment\n",
        "\n",
        "def videos_to_wav(input_video_folder, output_wav_folder):\n",
        "    # Ensure the output folder exists\n",
        "    os.makedirs(output_wav_folder, exist_ok=True)\n",
        "\n",
        "    # Loop through each video file in the input folder\n",
        "    for video_file_name in os.listdir(input_video_folder):\n",
        "        if video_file_name.endswith(\".mp4\"):\n",
        "            video_file_path = os.path.join(input_video_folder, video_file_name)\n",
        "\n",
        "            # Generate corresponding WAV file name\n",
        "            wav_file_name = f\"{os.path.splitext(video_file_name)[0]}.wav\"\n",
        "            wav_file_path = os.path.join(output_wav_folder, wav_file_name)\n",
        "\n",
        "            # Load video clip\n",
        "            video_clip = VideoFileClip(video_file_path)\n",
        "\n",
        "            # Extract audio from the video\n",
        "            audio_clip = video_clip.audio\n",
        "\n",
        "            # Convert to WAV format\n",
        "            audio_clip.write_audiofile(wav_file_path, codec='pcm_s16le')\n",
        "\n",
        "# Example usage\n",
        "input_video_folder = \"/content/drive/MyDrive/ProjectX/Dataset/\"\n",
        "output_wav_folder = \"/content/drive/MyDrive/ProjectX/WAV/\"\n",
        "\n",
        "videos_to_wav(input_video_folder, output_wav_folder)"
      ],
      "metadata": {
        "id": "G2tPSHLCPJG4"
      },
      "execution_count": null,
      "outputs": []
    }
  ]
}